{
 "cells": [
  {
   "cell_type": "code",
   "execution_count": null,
   "id": "685a948e",
   "metadata": {},
   "outputs": [],
   "source": [
    "import pandas as pd\n",
    "from sklearn.metrics import (\n",
    "    accuracy_score,\n",
    "    f1_score,\n",
    "    matthews_corrcoef,\n",
    "    precision_score,\n",
    "    recall_score,\n",
    ")\n",
    "from sklearn.model_selection import train_test_split\n",
    "from tqdm import tqdm\n",
    "from transformers import (\n",
    "    AutoModelForCausalLM,\n",
    "    AutoModelForSeq2SeqLM,\n",
    "    AutoTokenizer,\n",
    "    pipeline,\n",
    ")\n",
    "\n",
    "# Load model & tokenizer\n",
    "model_id = \"google/flan-t5-base\"\n",
    "tokenizer = AutoTokenizer.from_pretrained(model_id)\n",
    "model = AutoModelForSeq2SeqLM.from_pretrained(model_id)"
   ]
  },
  {
   "cell_type": "code",
   "execution_count": 26,
   "id": "a65954de",
   "metadata": {},
   "outputs": [
    {
     "name": "stdout",
     "output_type": "stream",
     "text": [
      "Train data size: 32901\n",
      "Test data size: 200\n",
      "\n",
      "Test data values: label\n",
      "0    100\n",
      "1    100\n",
      "Name: count, dtype: int64\n"
     ]
    }
   ],
   "source": [
    "# Load data\n",
    "data = pd.read_csv('HIV.csv')\n",
    "data.drop('activity', axis=1, inplace=True)\n",
    "data.rename(columns={'smiles': 'input', 'HIV_active': 'label'}, inplace=True)\n",
    "\n",
    "# Split data into train and test sets\n",
    "train_data, test_data = train_test_split(data, test_size=0.2, random_state=42)\n",
    "train_data.reset_index(drop=True, inplace=True)\n",
    "test_data.reset_index(drop=True, inplace=True)\n",
    "\n",
    "label_0_sample = test_data[test_data['label'] == 0].sample(100, random_state=42)\n",
    "label_1_sample = test_data[test_data['label'] == 1].sample(100, random_state=42)\n",
    "\n",
    "test_data = pd.concat([label_0_sample, label_1_sample], ignore_index=True)\n",
    "\n",
    "print(f'Train data size: {len(train_data)}')\n",
    "print(f'Test data size: {len(test_data)}')\n",
    "\n",
    "print(f'\\nTest data values: {test_data[\"label\"].value_counts()}')"
   ]
  },
  {
   "cell_type": "code",
   "execution_count": 27,
   "id": "b9eba571",
   "metadata": {},
   "outputs": [],
   "source": [
    "# Prompt template\n",
    "def make_prompt_zero_shot(smiles):\n",
    "    return f\"\"\"Is the following compound active against HIV? Answer with \"yes\" or \"no\".\n",
    "\n",
    "SMILES: {smiles}\n",
    "Answer:\"\"\"\n",
    "\n",
    "def make_prompt_few_shot(smiles):\n",
    "    return f\"\"\"You are a chemistry assistant that predicts whether molecules are active against HIV.\n",
    "\n",
    "Here are some examples:\n",
    "\n",
    "SMILES: CC1=CC=CC=C1\n",
    "Answer: no\n",
    "\n",
    "SMILES: CN1CCCC1C2=CC=CC=C2\n",
    "Answer: yes\n",
    "\n",
    "Now evaluate this molecule:\n",
    "\n",
    "SMILES: {smiles}\n",
    "Answer:\"\"\"\n"
   ]
  },
  {
   "cell_type": "code",
   "execution_count": null,
   "id": "d60208f5",
   "metadata": {},
   "outputs": [],
   "source": [
    "# Prediction function\n",
    "def predict_hiv_activity(smiles: str, method: str = 'zero-shot') -> int:\n",
    "    if method == 'zero-shot':\n",
    "        prompt = make_prompt_zero_shot(smiles)\n",
    "    elif method == 'few-shot':\n",
    "        prompt = make_prompt_few_shot(smiles)\n",
    "    else:\n",
    "        raise ValueError(\"Method must be 'zero-shot' or 'few-shot'.\")\n",
    "    inputs = tokenizer(prompt, return_tensors=\"pt\")\n",
    "    outputs = model.generate(\n",
    "        **inputs,\n",
    "        max_new_tokens=4,\n",
    "        do_sample=True,\n",
    "        temperature=0.7\n",
    "    )\n",
    "    response = tokenizer.decode(outputs[0], skip_special_tokens=True).strip().lower()\n",
    "    if response.startswith(\"yes\"):\n",
    "        return 1\n",
    "    elif response.startswith(\"no\"):\n",
    "        return 0\n",
    "    else:\n",
    "        return None"
   ]
  },
  {
   "cell_type": "code",
   "execution_count": 32,
   "id": "c448c077",
   "metadata": {},
   "outputs": [
    {
     "name": "stderr",
     "output_type": "stream",
     "text": [
      "100%|██████████| 200/200 [00:27<00:00,  7.32it/s]\n"
     ]
    }
   ],
   "source": [
    "# Apply to all rows with progress bar\n",
    "tqdm.pandas()\n",
    "test_data['predicted_label'] = test_data['input'].progress_apply(predict_hiv_activity)"
   ]
  },
  {
   "cell_type": "code",
   "execution_count": 33,
   "id": "d81f57c4",
   "metadata": {},
   "outputs": [
    {
     "name": "stdout",
     "output_type": "stream",
     "text": [
      "Accuracy: 0.5150\n",
      "F1 Score: 0.3742\n",
      "Precision: 0.5273\n",
      "Recall: 0.2900\n",
      "Matthews Correlation Coefficient: 0.0336\n"
     ]
    }
   ],
   "source": [
    "print(f'Accuracy: {accuracy_score(test_data[\"label\"], test_data[\"predicted_label\"]):.4f}')\n",
    "print(f'F1 Score: {f1_score(test_data[\"label\"], test_data[\"predicted_label\"]):.4f}')\n",
    "print(f'Precision: {precision_score(test_data[\"label\"], test_data[\"predicted_label\"]):.4f}')\n",
    "print(f'Recall: {recall_score(test_data[\"label\"], test_data[\"predicted_label\"]):.4f}')\n",
    "print(f'Matthews Correlation Coefficient: {matthews_corrcoef(test_data[\"label\"], test_data[\"predicted_label\"]):.4f}')"
   ]
  },
  {
   "cell_type": "code",
   "execution_count": null,
   "id": "86b8c060",
   "metadata": {},
   "outputs": [],
   "source": []
  }
 ],
 "metadata": {
  "kernelspec": {
   "display_name": ".venv",
   "language": "python",
   "name": "python3"
  },
  "language_info": {
   "codemirror_mode": {
    "name": "ipython",
    "version": 3
   },
   "file_extension": ".py",
   "mimetype": "text/x-python",
   "name": "python",
   "nbconvert_exporter": "python",
   "pygments_lexer": "ipython3",
   "version": "3.12.3"
  }
 },
 "nbformat": 4,
 "nbformat_minor": 5
}
