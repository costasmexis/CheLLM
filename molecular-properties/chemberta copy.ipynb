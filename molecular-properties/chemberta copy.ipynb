{
 "cells": [
  {
   "cell_type": "code",
   "execution_count": 1,
   "id": "9c33ab48",
   "metadata": {},
   "outputs": [
    {
     "name": "stdout",
     "output_type": "stream",
     "text": [
      "Using device: cuda\n"
     ]
    }
   ],
   "source": [
    "import os\n",
    "import random\n",
    "from pathlib import Path\n",
    "\n",
    "import numpy as np\n",
    "import pandas as pd\n",
    "import torch\n",
    "from sklearn.metrics import mean_squared_error, mean_absolute_error, r2_score\n",
    "from sklearn.model_selection import train_test_split\n",
    "from sklearn.preprocessing import StandardScaler\n",
    "from torch.optim import AdamW\n",
    "from torch.utils.data import DataLoader, TensorDataset\n",
    "from tqdm import tqdm\n",
    "from transformers import (\n",
    "    AutoTokenizer,\n",
    "    AutoModelForSequenceClassification,\n",
    "    get_linear_schedule_with_warmup,\n",
    ")\n",
    "\n",
    "# ------------------------------------------------------------------\n",
    "# Reproducibility & device safety\n",
    "# ------------------------------------------------------------------\n",
    "SEED = 38\n",
    "random.seed(SEED)\n",
    "np.random.seed(SEED)\n",
    "torch.manual_seed(SEED)\n",
    "\n",
    "DEVICE = torch.device(\"cuda\" if torch.cuda.is_available() else \"cpu\")\n",
    "if DEVICE.type == \"cuda\":\n",
    "    torch.cuda.manual_seed_all(SEED)\n",
    "print(f\"Using device: {DEVICE}\")"
   ]
  },
  {
   "cell_type": "code",
   "execution_count": 2,
   "id": "15dfdf25",
   "metadata": {},
   "outputs": [
    {
     "name": "stderr",
     "output_type": "stream",
     "text": [
      "Some weights of RobertaForSequenceClassification were not initialized from the model checkpoint at DeepChem/ChemBERTa-77M-MTR and are newly initialized: ['classifier.dense.bias', 'classifier.dense.weight', 'classifier.out_proj.bias', 'classifier.out_proj.weight']\n",
      "You should probably TRAIN this model on a down-stream task to be able to use it for predictions and inference.\n"
     ]
    }
   ],
   "source": [
    "model_name = \"DeepChem/ChemBERTa-77M-MTR\"\n",
    "tokenizer = AutoTokenizer.from_pretrained(model_name)\n",
    "model = AutoModelForSequenceClassification.from_pretrained(\n",
    "    model_name, \n",
    "    num_labels=1,\n",
    "    problem_type=\"regression\" \n",
    ").to(DEVICE)"
   ]
  },
  {
   "cell_type": "code",
   "execution_count": 3,
   "id": "9d46a5d8",
   "metadata": {},
   "outputs": [
    {
     "name": "stdout",
     "output_type": "stream",
     "text": [
      "Train size: 85686, Validation size: 21422, Test size: 26777\n"
     ]
    }
   ],
   "source": [
    "# Read data\n",
    "df = pd.read_csv('../data/QM9.csv')\n",
    "df = df[['SMILES', 'U']]\n",
    "\n",
    "train_df, test_df = train_test_split(\n",
    "    df, test_size=0.20, random_state=SEED\n",
    ")\n",
    "train_df, val_df = train_test_split(\n",
    "    train_df, test_size=0.20, random_state=SEED\n",
    ")\n",
    "\n",
    "print(f\"Train size: {len(train_df)}, Validation size: {len(val_df)}, Test size: {len(test_df)}\")"
   ]
  },
  {
   "cell_type": "code",
   "execution_count": 4,
   "id": "5d4f6f7d",
   "metadata": {},
   "outputs": [],
   "source": [
    "# normalize target variable\n",
    "scaler = StandardScaler()\n",
    "train_df['U'] = scaler.fit_transform(train_df[['U']])\n",
    "val_df['U'] = scaler.transform(val_df[['U']])   \n",
    "test_df['U'] = scaler.transform(test_df[['U']])"
   ]
  },
  {
   "cell_type": "code",
   "execution_count": null,
   "id": "b466d5ae",
   "metadata": {},
   "outputs": [
    {
     "name": "stderr",
     "output_type": "stream",
     "text": [
      "Epoch 1: 100%|██████████| 1339/1339 [00:10<00:00, 121.84it/s]\n"
     ]
    },
    {
     "name": "stdout",
     "output_type": "stream",
     "text": [
      "Epoch 1 training loss: 0.1114\n",
      "Epoch 1 validation MSE: 28.4760\n"
     ]
    },
    {
     "name": "stderr",
     "output_type": "stream",
     "text": [
      "Epoch 2: 100%|██████████| 1339/1339 [00:12<00:00, 109.65it/s]\n"
     ]
    },
    {
     "name": "stdout",
     "output_type": "stream",
     "text": [
      "Epoch 2 training loss: 0.0353\n",
      "Epoch 2 validation MSE: 19.5810\n"
     ]
    },
    {
     "name": "stderr",
     "output_type": "stream",
     "text": [
      "Epoch 3: 100%|██████████| 1339/1339 [00:12<00:00, 109.94it/s]\n"
     ]
    },
    {
     "name": "stdout",
     "output_type": "stream",
     "text": [
      "Epoch 3 training loss: 0.0268\n",
      "Epoch 3 validation MSE: 19.7788\n"
     ]
    },
    {
     "name": "stderr",
     "output_type": "stream",
     "text": [
      "Epoch 4: 100%|██████████| 1339/1339 [00:10<00:00, 133.23it/s]\n"
     ]
    },
    {
     "name": "stdout",
     "output_type": "stream",
     "text": [
      "Epoch 4 training loss: 0.0235\n",
      "Epoch 4 validation MSE: 16.1111\n",
      "Test MSE: 16.2092\n"
     ]
    }
   ],
   "source": [
    "def tokenize_data(df):\n",
    "    return tokenizer(\n",
    "        df['SMILES'].tolist(),\n",
    "        padding=True,\n",
    "        truncation=True,\n",
    "        max_length=256,\n",
    "        return_tensors='pt'\n",
    "    )\n",
    "\n",
    "train_encodings = tokenize_data(train_df)\n",
    "val_encodings = tokenize_data(val_df)\n",
    "test_encodings = tokenize_data(test_df)\n",
    "\n",
    "train_labels = torch.tensor(train_df['U'].values, dtype=torch.float32)\n",
    "val_labels = torch.tensor(val_df['U'].values, dtype=torch.float32)\n",
    "test_labels = torch.tensor(test_df['U'].values, dtype=torch.float32)\n",
    "\n",
    "train_dataset = TensorDataset(train_encodings['input_ids'], train_encodings['attention_mask'], train_labels)\n",
    "val_dataset = TensorDataset(val_encodings['input_ids'], val_encodings['attention_mask'], val_labels)\n",
    "test_dataset = TensorDataset(test_encodings['input_ids'], test_encodings['attention_mask'], test_labels)\n",
    "\n",
    "train_loader = DataLoader(train_dataset, batch_size=64, shuffle=True)\n",
    "val_loader = DataLoader(val_dataset, batch_size=64)\n",
    "test_loader = DataLoader(test_dataset, batch_size=64)\n",
    "\n",
    "# Optimizer & Scheduler\n",
    "optimizer = AdamW(model.parameters(), lr=5e-5)\n",
    "total_steps = len(train_loader) * 4\n",
    "scheduler = get_linear_schedule_with_warmup(optimizer, num_warmup_steps=0, num_training_steps=total_steps)\n",
    "loss_fn = torch.nn.MSELoss()\n",
    "\n",
    "# Training loop\n",
    "for epoch in range(4):\n",
    "    model.train()\n",
    "    total_loss = 0\n",
    "    for batch in tqdm(train_loader, desc=f\"Epoch {epoch+1}\"):\n",
    "        input_ids, attention_mask, labels = [b.to(DEVICE) for b in batch]\n",
    "        outputs = model(input_ids=input_ids, attention_mask=attention_mask)\n",
    "        preds = outputs.logits.squeeze()\n",
    "        loss = loss_fn(preds, labels)\n",
    "        total_loss += loss.item()\n",
    "        optimizer.zero_grad()\n",
    "        loss.backward()\n",
    "        optimizer.step()\n",
    "        scheduler.step()\n",
    "    avg_loss = total_loss / len(train_loader)\n",
    "    print(f\"Epoch {epoch+1} training loss: {avg_loss:.4f}\")\n",
    "\n",
    "    model.eval()\n",
    "    val_preds, val_targets = [], []\n",
    "    with torch.no_grad():\n",
    "        for batch in val_loader:\n",
    "            input_ids, attention_mask, labels = [b.to(DEVICE) for b in batch]\n",
    "            outputs = model(input_ids=input_ids, attention_mask=attention_mask)\n",
    "            preds = outputs.logits.squeeze()\n",
    "            val_preds.extend(preds.cpu().numpy())\n",
    "            val_targets.extend(labels.cpu().numpy())\n",
    "    val_preds_inv = scaler.inverse_transform(np.array(val_preds).reshape(-1, 1)).flatten()\n",
    "    val_targets_inv = scaler.inverse_transform(np.array(val_targets).reshape(-1, 1)).flatten()\n",
    "    val_mse = np.mean((val_preds_inv - val_targets_inv) ** 2)\n",
    "    print(f\"Epoch {epoch+1} validation MSE: {val_mse:.4f}\")\n",
    "\n",
    "model.eval()\n",
    "test_preds, test_targets = [], []\n",
    "with torch.no_grad():\n",
    "    for batch in test_loader:\n",
    "        input_ids, attention_mask, labels = [b.to(DEVICE) for b in batch]\n",
    "        outputs = model(input_ids=input_ids, attention_mask=attention_mask)\n",
    "        preds = outputs.logits.squeeze()\n",
    "        test_preds.extend(preds.cpu().numpy())\n",
    "        test_targets.extend(labels.cpu().numpy())\n",
    "        \n",
    "test_preds_inv = scaler.inverse_transform(np.array(test_preds).reshape(-1, 1)).flatten()\n",
    "test_targets_inv = scaler.inverse_transform(np.array(test_targets).reshape(-1, 1)).flatten()\n",
    "test_mse = np.mean((test_preds_inv - test_targets_inv) ** 2)\n",
    "print(f\"Test MSE: {test_mse:.4f}\")"
   ]
  },
  {
   "cell_type": "code",
   "execution_count": 9,
   "id": "aa91a968",
   "metadata": {},
   "outputs": [
    {
     "data": {
      "text/html": [
       "<div>\n",
       "<style scoped>\n",
       "    .dataframe tbody tr th:only-of-type {\n",
       "        vertical-align: middle;\n",
       "    }\n",
       "\n",
       "    .dataframe tbody tr th {\n",
       "        vertical-align: top;\n",
       "    }\n",
       "\n",
       "    .dataframe thead th {\n",
       "        text-align: right;\n",
       "    }\n",
       "</style>\n",
       "<table border=\"1\" class=\"dataframe\">\n",
       "  <thead>\n",
       "    <tr style=\"text-align: right;\">\n",
       "      <th></th>\n",
       "      <th>SMILES</th>\n",
       "      <th>Predicted_U</th>\n",
       "      <th>True_U</th>\n",
       "    </tr>\n",
       "  </thead>\n",
       "  <tbody>\n",
       "    <tr>\n",
       "      <th>109094</th>\n",
       "      <td>CCC1=CC=CCCC1</td>\n",
       "      <td>-350.455902</td>\n",
       "      <td>-351.172943</td>\n",
       "    </tr>\n",
       "    <tr>\n",
       "      <th>126738</th>\n",
       "      <td>CCN1C=CC(OC)=N1</td>\n",
       "      <td>-420.528412</td>\n",
       "      <td>-419.217926</td>\n",
       "    </tr>\n",
       "    <tr>\n",
       "      <th>61920</th>\n",
       "      <td>CC(NCC#N)C1CN1</td>\n",
       "      <td>-398.751160</td>\n",
       "      <td>-399.288086</td>\n",
       "    </tr>\n",
       "    <tr>\n",
       "      <th>17598</th>\n",
       "      <td>CC(=O)C(=O)N1CC1</td>\n",
       "      <td>-400.258087</td>\n",
       "      <td>-399.802094</td>\n",
       "    </tr>\n",
       "    <tr>\n",
       "      <th>94339</th>\n",
       "      <td>OC1CCC11CC1C#C</td>\n",
       "      <td>-383.961517</td>\n",
       "      <td>-385.820740</td>\n",
       "    </tr>\n",
       "    <tr>\n",
       "      <th>...</th>\n",
       "      <td>...</td>\n",
       "      <td>...</td>\n",
       "      <td>...</td>\n",
       "    </tr>\n",
       "    <tr>\n",
       "      <th>118746</th>\n",
       "      <td>CC1(CCO)CC(O)C1</td>\n",
       "      <td>-423.637512</td>\n",
       "      <td>-425.399719</td>\n",
       "    </tr>\n",
       "    <tr>\n",
       "      <th>47039</th>\n",
       "      <td>O=C1CC2CCC2CO1</td>\n",
       "      <td>-424.646271</td>\n",
       "      <td>-423.056458</td>\n",
       "    </tr>\n",
       "    <tr>\n",
       "      <th>129113</th>\n",
       "      <td>N=C1CC2=C(ON=N2)O1</td>\n",
       "      <td>-471.401398</td>\n",
       "      <td>-468.822296</td>\n",
       "    </tr>\n",
       "    <tr>\n",
       "      <th>3528</th>\n",
       "      <td>CC1C2C3OC2C13</td>\n",
       "      <td>-314.663666</td>\n",
       "      <td>-308.415131</td>\n",
       "    </tr>\n",
       "    <tr>\n",
       "      <th>46368</th>\n",
       "      <td>O=C1OCC1C1CCC1</td>\n",
       "      <td>-426.255463</td>\n",
       "      <td>-423.033478</td>\n",
       "    </tr>\n",
       "  </tbody>\n",
       "</table>\n",
       "<p>26777 rows × 3 columns</p>\n",
       "</div>"
      ],
      "text/plain": [
       "                    SMILES  Predicted_U      True_U\n",
       "109094       CCC1=CC=CCCC1  -350.455902 -351.172943\n",
       "126738     CCN1C=CC(OC)=N1  -420.528412 -419.217926\n",
       "61920       CC(NCC#N)C1CN1  -398.751160 -399.288086\n",
       "17598     CC(=O)C(=O)N1CC1  -400.258087 -399.802094\n",
       "94339       OC1CCC11CC1C#C  -383.961517 -385.820740\n",
       "...                    ...          ...         ...\n",
       "118746     CC1(CCO)CC(O)C1  -423.637512 -425.399719\n",
       "47039       O=C1CC2CCC2CO1  -424.646271 -423.056458\n",
       "129113  N=C1CC2=C(ON=N2)O1  -471.401398 -468.822296\n",
       "3528         CC1C2C3OC2C13  -314.663666 -308.415131\n",
       "46368       O=C1OCC1C1CCC1  -426.255463 -423.033478\n",
       "\n",
       "[26777 rows x 3 columns]"
      ]
     },
     "execution_count": 9,
     "metadata": {},
     "output_type": "execute_result"
    }
   ],
   "source": [
    "results_df = pd.DataFrame({\n",
    "    'SMILES': test_df['SMILES'],\n",
    "    'Predicted_U': test_preds_inv,\n",
    "    'True_U': test_targets_inv\n",
    "})\n",
    "\n",
    "results_df"
   ]
  }
 ],
 "metadata": {
  "kernelspec": {
   "display_name": ".llms",
   "language": "python",
   "name": "python3"
  },
  "language_info": {
   "codemirror_mode": {
    "name": "ipython",
    "version": 3
   },
   "file_extension": ".py",
   "mimetype": "text/x-python",
   "name": "python",
   "nbconvert_exporter": "python",
   "pygments_lexer": "ipython3",
   "version": "3.10.12"
  }
 },
 "nbformat": 4,
 "nbformat_minor": 5
}
