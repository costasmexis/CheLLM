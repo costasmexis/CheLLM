{
 "cells": [
  {
   "cell_type": "code",
   "execution_count": 14,
   "id": "1d21b489",
   "metadata": {},
   "outputs": [],
   "source": [
    "import pandas as pd\n",
    "import ollama\n",
    "from tqdm import tqdm\n",
    "from openai import OpenAI\n",
    "import requests\n",
    "\n",
    "MODEL = \"llama3.2:3b\"\n",
    "OLLAMA_API = \"http://localhost:11434/api/chat\"\n",
    "HEADERS = {\"Content-Type\": \"application/json\"}"
   ]
  },
  {
   "cell_type": "code",
   "execution_count": 17,
   "id": "e4c0ec98",
   "metadata": {},
   "outputs": [
    {
     "name": "stdout",
     "output_type": "stream",
     "text": [
      "Generative AI has the potential to revolutionize various fields in chemistry, including molecular design, materials science, and chemical synthesis. Here are some examples of applications of generative AI in chemistry:\n",
      "\n",
      "1. **Molecular Design**: Generative AI algorithms can be used to design novel molecules with specific properties, such as biological activity or medicinal properties. These algorithms can generate a vast number of molecule variants, which can then be optimized using traditional molecular modeling techniques.\n",
      "2. **Materials Science**: Generative AI can be applied to materials science by generating new material compositions and structures that exhibit desired properties, such as high strength-to-weight ratio, thermal resistance, or optical transparency. This approach has the potential to accelerate the discovery of new materials with unique properties.\n",
      "3. **Chemical Synthesis Route Optimization**: Generative AI algorithms can be used to optimize chemical synthesis routes by predicting the most efficient and cost-effective pathways for synthesizing complex molecules. These algorithms can also identify potential bottlenecks in existing syntheses and suggest alternative reactions or reagents to improve efficiency.\n",
      "4. **Predicting Chemical Properties**: Generative AI models can be trained on large datasets of known molecules to predict their chemical properties, such as reactivity, solubility, or stability. This approach has the potential to accelerate the discovery of new compounds with desired properties and reduce the need for experimental testing.\n",
      "5. **Designing New Catalysts**: Generative AI algorithms can be used to design novel catalysts that exhibit high efficiency and selectivity in chemical reactions. These algorithms can generate a vast number of catalyst variants, which can then be optimized using traditional computational chemistry techniques.\n",
      "6. **Biological Target Prediction**: Generative AI models can be trained on large datasets of known protein-ligand interactions to predict the binding affinities of small molecules for specific biological targets. This approach has the potential to accelerate the discovery of new therapeutics and reduce the need for experimental testing.\n",
      "7. **Synthetic Pathway Discovery**: Generative AI algorithms can be used to discover novel synthetic pathways for complex molecules by predicting the most efficient routes for synthesis. These algorithms can identify potential starting materials, intermediates, and products, as well as suggest alternative reactions or reagents to improve efficiency.\n",
      "\n",
      "These applications of generative AI in chemistry have the potential to accelerate discovery, reduce costs, and improve the efficiency of chemical synthesis. However, it's essential to note that these approaches are not yet widely adopted in industry and require significant validation through experimental testing before being widely implemented.\n"
     ]
    }
   ],
   "source": [
    "system_message = \"You are a generative AI expert.\"\n",
    "user_prompt = \"Describe some applications of generative AI in chemistry.\"\n",
    "\n",
    "messages = [\n",
    "    {\"role\": \"system\", \"content\": system_message},\n",
    "    {\"role\": \"user\", \"content\": user_prompt}\n",
    "  ]\n",
    "\n",
    "payload = {\n",
    "    \"model\": MODEL,\n",
    "    \"messages\": messages,\n",
    "    \"stream\": False  \n",
    "}\n",
    "\n",
    "response = requests.post(OLLAMA_API, json=payload, headers=HEADERS)\n",
    "print(response.json()['message']['content'])"
   ]
  },
  {
   "cell_type": "markdown",
   "id": "e54a4094",
   "metadata": {},
   "source": [
    "Introducing the `ollama` package"
   ]
  },
  {
   "cell_type": "code",
   "execution_count": 18,
   "id": "24cd8777",
   "metadata": {},
   "outputs": [
    {
     "name": "stdout",
     "output_type": "stream",
     "text": [
      "Generative AI has the potential to revolutionize various fields in chemistry, including research, design, and optimization. Here are some examples of applications of generative AI in chemistry:\n",
      "\n",
      "1. **Molecule Design**: Generative AI can be used to design new molecules with specific properties, such as high affinity for a particular receptor or potent inhibition of a target enzyme. By generating vast libraries of potential molecules, researchers can identify promising candidates and speed up the discovery process.\n",
      "2. **Lead Optimization**: Once a lead molecule is identified, generative AI can help optimize its structure to improve its efficacy, selectivity, and pharmacokinetic properties. This involves iterative refinement of molecular structures using machine learning algorithms.\n",
      "3. **Predictive Modeling**: Generative AI models can be trained on large datasets of chemical compounds and their corresponding physicochemical properties (e.g., boiling point, solubility). These models can predict the properties of new molecules or estimate the potential performance of an existing molecule in a specific application.\n",
      "4. **Synthetic Route Planning**: Generative AI can aid in planning synthetic routes by predicting the most efficient and cost-effective sequence of reactions to synthesize a target molecule.\n",
      "5. **Materials Science**: Generative AI can be used to design novel materials with specific properties, such as mechanical strength, thermal conductivity, or optical absorption. By generating vast libraries of potential materials, researchers can identify promising candidates and accelerate the discovery process.\n",
      "6. **Drug Discovery**: Generative AI can assist in identifying new drug targets by analyzing large datasets of protein structures and their corresponding ligands (molecules that bind to proteins).\n",
      "7. **Environmental Chemistry**: Generative AI can help predict the fate and transport of pollutants in the environment, such as oil spills or industrial waste.\n",
      "8. **Chemical Synthesis**: Generative AI can optimize chemical synthesis reactions by predicting the most efficient reaction conditions, catalysts, and reagents.\n",
      "\n",
      "Some of the key techniques used in generative AI for chemistry include:\n",
      "\n",
      "1. **Generative Adversarial Networks (GANs)**: GANs are a popular choice for generating novel molecules or materials.\n",
      "2. **Variational Autoencoders (VAEs)**: VAEs can be used to predict molecular properties and generate new molecules.\n",
      "3. **Recurrent Neural Networks (RNNs)**: RNNs can be trained on sequence data, such as chemical reaction pathways or synthetic routes.\n",
      "\n",
      "These applications of generative AI in chemistry demonstrate the potential for machine learning to accelerate discovery, design, and optimization in various areas of chemistry research.\n"
     ]
    }
   ],
   "source": [
    "import ollama\n",
    "\n",
    "response = ollama.chat(model=MODEL, messages=messages)\n",
    "print(response['message']['content'])"
   ]
  },
  {
   "cell_type": "markdown",
   "id": "601a0b75",
   "metadata": {},
   "source": [
    "Using `openai` python library"
   ]
  },
  {
   "cell_type": "code",
   "execution_count": 19,
   "id": "43853de7",
   "metadata": {},
   "outputs": [
    {
     "name": "stdout",
     "output_type": "stream",
     "text": [
      "Generative AI has the potential to revolutionize various aspects of chemistry, from molecular design and synthesis to materials science and pharmaceutical development. Here are some examples of applications of generative AI in chemistry:\n",
      "\n",
      "1. **Molecular De Novo Design**: Generative AI algorithms can be used to design novel molecules from scratch, taking into account specific properties such as reactivity, solubility, and bioavailability. These designs can be optimized using machine learning models that predict their potential performance.\n",
      "2. **Predictive Analytics for Chemical Reactions**: Generative AI models can be trained on large datasets of chemical reactions and used to predict the outcomes of new reactions or identify potential side products.\n",
      "3. **Material Science**: Generative AI can be used to design novel materials with specific properties, such as superconductors, nanomaterials, or metamaterials. These designs can be optimized using machine learning models that account for the material's electronic structure, mechanical properties, and thermal behavior.\n",
      "4. **Pharmaceutical Design**: Generative AI can be used to design novel small molecules or nanoparticles with specific pharmacological targets, such as enzyme inhibitors, receptors, or delivery systems. These designs can be optimized using machine learning models that predict their potential efficacy and safety.\n",
      "5. **Quantum Chemistry and Molecular Dynamics**: Generative AI algorithms can be used to simulate complex quantum chemical systems, allowing researchers to study the behavior of molecules under various conditions, such as high-pressure, temperature, or radiation environments.\n",
      "6. **Spectroscopic Analysis**: Generative AI models can be trained on large datasets of spectroscopic data (e.g., NMR, IR, mass spec) and used to predict the structures or properties of unknown compounds.\n",
      "7. **Synthetic Route Optimization**: Generative AI algorithms can be used to optimize synthetic routes for complex molecules by predicting the most efficient reaction sequences, identifying potential bottlenecks, and suggesting alternative routes.\n",
      "8. **Nanomaterial Synthesis**: Generative AI can be used to design novel nanomaterials with specific properties, such as optical, electrical, or thermoelectric properties. These designs can be optimized using machine learning models that account for the material's synthesis conditions, morphology, and functional performance.\n",
      "9. **Biomimetic Design**: Generative AI algorithms can be used to design novel biomolecules (e.g., proteins, peptides, nucleic acids) with specific functions or properties, such as binding specific targets, catalyzing chemical reactions, or exhibiting immunological activities.\n",
      "10. **Extraction and Analysis of Chemical Datasets**: Generative AI models can be trained on large datasets of chemical compounds and their properties (e.g., structure-property relationships), allowing researchers to extract insights and patterns that would be difficult or impossible to discern manually.\n",
      "\n",
      "These examples highlight the vast potential of generative AI in chemistry, where it can complement traditional experimental methods with computational tools to accelerate discovery, optimization, and innovation.\n"
     ]
    }
   ],
   "source": [
    "from openai import OpenAI\n",
    "\n",
    "ollama_via_openai = OpenAI(base_url='http://localhost:11434/v1', api_key='ollama')\n",
    "\n",
    "response = ollama_via_openai.chat.completions.create(\n",
    "    model=MODEL,\n",
    "    messages=messages\n",
    ")\n",
    "\n",
    "print(response.choices[0].message.content)"
   ]
  }
 ],
 "metadata": {
  "kernelspec": {
   "display_name": ".llms",
   "language": "python",
   "name": "python3"
  },
  "language_info": {
   "codemirror_mode": {
    "name": "ipython",
    "version": 3
   },
   "file_extension": ".py",
   "mimetype": "text/x-python",
   "name": "python",
   "nbconvert_exporter": "python",
   "pygments_lexer": "ipython3",
   "version": "3.10.12"
  }
 },
 "nbformat": 4,
 "nbformat_minor": 5
}
