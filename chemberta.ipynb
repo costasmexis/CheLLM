{
 "cells": [
  {
   "cell_type": "code",
   "execution_count": 29,
   "id": "9c33ab48",
   "metadata": {},
   "outputs": [
    {
     "name": "stdout",
     "output_type": "stream",
     "text": [
      "Using device: cuda\n"
     ]
    }
   ],
   "source": [
    "import os\n",
    "import random\n",
    "from pathlib import Path\n",
    "\n",
    "import numpy as np\n",
    "import pandas as pd\n",
    "import torch\n",
    "from sklearn.metrics import (\n",
    "    accuracy_score,\n",
    "    classification_report,\n",
    "    confusion_matrix,\n",
    "    f1_score,\n",
    "    precision_score,\n",
    "    recall_score,\n",
    ")\n",
    "from sklearn.model_selection import train_test_split\n",
    "from torch.optim import AdamW\n",
    "from torch.utils.data import DataLoader, TensorDataset\n",
    "from tqdm import tqdm\n",
    "from transformers import (\n",
    "    AutoModelForMaskedLM,\n",
    "    AutoTokenizer,\n",
    "    AutoModelForSequenceClassification,\n",
    "    get_linear_schedule_with_warmup,\n",
    ")\n",
    "\n",
    "# ------------------------------------------------------------------\n",
    "# Reproducibility & device safety\n",
    "# ------------------------------------------------------------------\n",
    "SEED = 38\n",
    "random.seed(SEED)\n",
    "np.random.seed(SEED)\n",
    "torch.manual_seed(SEED)\n",
    "\n",
    "DEVICE = torch.device(\"cuda\" if torch.cuda.is_available() else \"cpu\")\n",
    "if DEVICE.type == \"cuda\":\n",
    "    torch.cuda.manual_seed_all(SEED)\n",
    "print(f\"Using device: {DEVICE}\")"
   ]
  },
  {
   "cell_type": "code",
   "execution_count": 30,
   "id": "15dfdf25",
   "metadata": {},
   "outputs": [
    {
     "name": "stderr",
     "output_type": "stream",
     "text": [
      "/home/WUR/g0012069/env/main/lib/python3.10/site-packages/huggingface_hub/file_download.py:1132: FutureWarning: `resume_download` is deprecated and will be removed in version 1.0.0. Downloads always resume when possible. If you want to force a new download, use `force_download=True`.\n",
      "  warnings.warn(\n",
      "Some weights of RobertaForSequenceClassification were not initialized from the model checkpoint at seyonec/ChemBERTa-zinc-base-v1 and are newly initialized: ['classifier.dense.bias', 'classifier.dense.weight', 'classifier.out_proj.bias', 'classifier.out_proj.weight']\n",
      "You should probably TRAIN this model on a down-stream task to be able to use it for predictions and inference.\n"
     ]
    }
   ],
   "source": [
    "tokenizer = AutoTokenizer.from_pretrained(\"seyonec/ChemBERTa-zinc-base-v1\")\n",
    "model = AutoModelForSequenceClassification.from_pretrained(\n",
    "    \"seyonec/ChemBERTa-zinc-base-v1\", \n",
    "    num_labels=2  # Binary classification\n",
    ").to(DEVICE)"
   ]
  },
  {
   "cell_type": "code",
   "execution_count": 31,
   "id": "0410aab1",
   "metadata": {},
   "outputs": [
    {
     "name": "stdout",
     "output_type": "stream",
     "text": [
      "Train size: 26320, Validation size: 6581, Test size: 8226\n"
     ]
    }
   ],
   "source": [
    "df = pd.read_csv('./data/HIV.csv')\n",
    "df.drop('activity', axis=1, inplace=True)\n",
    "df.rename(columns={'HIV_active': 'label'}, inplace=True)\n",
    "\n",
    "train_df, test_df = train_test_split(\n",
    "    df, test_size=0.20, stratify=df[\"label\"], random_state=SEED\n",
    ")\n",
    "train_df, val_df = train_test_split(\n",
    "    train_df, test_size=0.20, stratify=train_df[\"label\"], random_state=SEED\n",
    ")\n",
    "\n",
    "print(f\"Train size: {len(train_df)}, Validation size: {len(val_df)}, Test size: {len(test_df)}\")"
   ]
  },
  {
   "cell_type": "code",
   "execution_count": 32,
   "id": "87e5bf3c",
   "metadata": {},
   "outputs": [],
   "source": [
    "def encode(texts):\n",
    "    \"\"\"Return input_ids & attention_mask tensors (on CPU).\"\"\"\n",
    "    enc = tokenizer(\n",
    "        list(texts),\n",
    "        padding=\"max_length\",\n",
    "        truncation=True,\n",
    "        max_length=256,\n",
    "        return_tensors=\"pt\",\n",
    "    )\n",
    "    return enc[\"input_ids\"], enc[\"attention_mask\"]\n",
    "\n",
    "label_map = {0: \"inactive\", 1: \"active\"}    \n",
    "\n",
    "def build_dataset(frame: pd.DataFrame):\n",
    "    \"\"\"Return a DataLoader for the given DataFrame.\"\"\"\n",
    "    input_ids, attention_mask = encode(frame[\"smiles\"])\n",
    "    labels = torch.tensor(frame[\"label\"].values)\n",
    "    dataset = TensorDataset(input_ids, attention_mask, labels)\n",
    "    return DataLoader(dataset, batch_size=32, shuffle=True)  # Shuffle for training\n",
    "\n",
    "train_loader = build_dataset(train_df)\n",
    "val_loader = build_dataset(val_df)"
   ]
  },
  {
   "cell_type": "code",
   "execution_count": 33,
   "id": "915ecfdc",
   "metadata": {},
   "outputs": [],
   "source": [
    "optimiser = AdamW(model.parameters(), lr=2e-5)\n",
    "total_steps = len(train_loader) * 3  # epochs = 3\n",
    "scheduler = get_linear_schedule_with_warmup(\n",
    "    optimiser, num_warmup_steps=0, num_training_steps=total_steps\n",
    ")"
   ]
  },
  {
   "cell_type": "code",
   "execution_count": 34,
   "id": "f470df1f",
   "metadata": {},
   "outputs": [],
   "source": [
    "def epoch_metrics(logits_list, labels_list):\n",
    "    preds = torch.cat(logits_list).argmax(dim=1).cpu().numpy()\n",
    "    gold = torch.cat(labels_list).cpu().numpy()\n",
    "    acc = accuracy_score(gold, preds)\n",
    "    f1 = f1_score(gold, preds, average=\"macro\")\n",
    "    return acc, f1\n",
    "\n",
    "\n",
    "def save_checkpoint(model, optimiser, path: Path):\n",
    "    path.parent.mkdir(parents=True, exist_ok=True)\n",
    "    torch.save(\n",
    "        {\n",
    "            \"model_state_dict\": model.state_dict(),\n",
    "            \"optimizer_state_dict\": optimiser.state_dict(),\n",
    "        },\n",
    "        path,\n",
    "    )\n",
    "    print(f\"Model saved to {path}\")"
   ]
  },
  {
   "cell_type": "code",
   "execution_count": 35,
   "id": "eca94e31",
   "metadata": {},
   "outputs": [
    {
     "name": "stdout",
     "output_type": "stream",
     "text": [
      "\n",
      "Epoch 1/3\n"
     ]
    },
    {
     "name": "stderr",
     "output_type": "stream",
     "text": [
      "Training: 100%|██████████| 823/823 [02:11<00:00,  6.28it/s]\n",
      "Validating: 100%|██████████| 206/206 [00:10<00:00, 19.19it/s]\n"
     ]
    },
    {
     "name": "stdout",
     "output_type": "stream",
     "text": [
      "Train loss: 0.1327 | Val loss: 0.1328 | Accuracy: 0.9669 | F1: 0.5848\n",
      "\n",
      "Epoch 2/3\n"
     ]
    },
    {
     "name": "stderr",
     "output_type": "stream",
     "text": [
      "Training: 100%|██████████| 823/823 [02:11<00:00,  6.25it/s]\n",
      "Validating: 100%|██████████| 206/206 [00:10<00:00, 19.04it/s]\n"
     ]
    },
    {
     "name": "stdout",
     "output_type": "stream",
     "text": [
      "Train loss: 0.1066 | Val loss: 0.1205 | Accuracy: 0.9676 | F1: 0.6680\n",
      "\n",
      "Epoch 3/3\n"
     ]
    },
    {
     "name": "stderr",
     "output_type": "stream",
     "text": [
      "Training: 100%|██████████| 823/823 [02:11<00:00,  6.26it/s]\n",
      "Validating: 100%|██████████| 206/206 [00:10<00:00, 19.03it/s]\n"
     ]
    },
    {
     "name": "stdout",
     "output_type": "stream",
     "text": [
      "Train loss: 0.0915 | Val loss: 0.1260 | Accuracy: 0.9664 | F1: 0.6766\n",
      "Model saved to models/chemb_hiv_bert.pth\n"
     ]
    }
   ],
   "source": [
    "EPOCHS = 3\n",
    "for epoch in range(1, EPOCHS + 1):\n",
    "    print(f\"\\nEpoch {epoch}/{EPOCHS}\")\n",
    "    # ---- train ----------------------------------------------------\n",
    "    model.train()\n",
    "    running_loss = 0.0\n",
    "    for ids, masks, labels in tqdm(train_loader, desc=\"Training\"):\n",
    "        ids, masks, labels = ids.to(DEVICE), masks.to(DEVICE), labels.to(DEVICE)\n",
    "\n",
    "        optimiser.zero_grad()\n",
    "        outputs = model(\n",
    "            input_ids=ids, attention_mask=masks, labels=labels, return_dict=True\n",
    "        )\n",
    "        loss = outputs.loss\n",
    "        loss.backward()\n",
    "        torch.nn.utils.clip_grad_norm_(model.parameters(), 1.0)\n",
    "        optimiser.step()\n",
    "        scheduler.step()\n",
    "\n",
    "        running_loss += loss.item()\n",
    "\n",
    "    train_loss = running_loss / len(train_loader)\n",
    "\n",
    "    # ---- validate -------------------------------------------------\n",
    "    model.eval()\n",
    "    val_loss = 0.0\n",
    "    all_logits, all_labels = [], []\n",
    "    with torch.no_grad():\n",
    "        for ids, masks, labels in tqdm(val_loader, desc=\"Validating\"):\n",
    "            ids, masks, labels = ids.to(DEVICE), masks.to(DEVICE), labels.to(DEVICE)\n",
    "            outputs = model(\n",
    "                input_ids=ids, attention_mask=masks, labels=labels, return_dict=True\n",
    "            )\n",
    "            val_loss += outputs.loss.item()\n",
    "            all_logits.append(outputs.logits.cpu())\n",
    "            all_labels.append(labels.cpu())\n",
    "\n",
    "    val_loss /= len(val_loader)\n",
    "    acc, f1 = epoch_metrics(all_logits, all_labels)\n",
    "\n",
    "    print(\n",
    "        f\"Train loss: {train_loss:.4f} | \"\n",
    "        f\"Val loss: {val_loss:.4f} | \"\n",
    "        f\"Accuracy: {acc:.4f} | \"\n",
    "        f\"F1: {f1:.4f}\"\n",
    "    )\n",
    "\n",
    "# ------------------------------------------------------------------\n",
    "# Save final checkpoint\n",
    "# ------------------------------------------------------------------\n",
    "save_checkpoint(model, optimiser, Path(\"models/chemb_hiv_bert.pth\"))"
   ]
  },
  {
   "cell_type": "code",
   "execution_count": 37,
   "id": "2a25f2ff",
   "metadata": {},
   "outputs": [
    {
     "name": "stderr",
     "output_type": "stream",
     "text": [
      "Testing: 100%|██████████| 258/258 [00:13<00:00, 19.47it/s]"
     ]
    },
    {
     "name": "stdout",
     "output_type": "stream",
     "text": [
      "\n",
      "=== Test-set metrics ===\n",
      "Accuracy : 0.9711\n",
      "Precision: 0.8207\n",
      "Recall   : 0.6749\n",
      "F1-score : 0.7245\n",
      "\n",
      "--- Per-class report ---\n",
      "              precision    recall  f1-score   support\n",
      "\n",
      "    negative       0.98      0.99      0.99      7937\n",
      "    positive       0.66      0.36      0.46       289\n",
      "\n",
      "    accuracy                           0.97      8226\n",
      "   macro avg       0.82      0.67      0.72      8226\n",
      "weighted avg       0.97      0.97      0.97      8226\n",
      "\n",
      "\n",
      "--- Confusion matrix ---\n",
      "[[7885   52]\n",
      " [ 186  103]]\n"
     ]
    },
    {
     "name": "stderr",
     "output_type": "stream",
     "text": [
      "\n"
     ]
    }
   ],
   "source": [
    "# Encode test data and create DataLoader\n",
    "test_loader = build_dataset(test_df)\n",
    "\n",
    "model.eval()                                   # switch to inference mode\n",
    "logits_list, labels_list = [], []\n",
    "\n",
    "with torch.no_grad():\n",
    "    for ids, masks, labels in tqdm(test_loader, desc=\"Testing\"):\n",
    "        ids, masks = ids.to(DEVICE), masks.to(DEVICE)\n",
    "        outputs = model(input_ids=ids, attention_mask=masks, return_dict=True)\n",
    "        logits_list.append(outputs.logits.cpu())\n",
    "        labels_list.append(labels)\n",
    "\n",
    "logits = torch.cat(logits_list)\n",
    "y_true = torch.cat(labels_list).numpy()\n",
    "y_pred = logits.argmax(dim=1).numpy()\n",
    "\n",
    "accuracy  = accuracy_score(y_true, y_pred)\n",
    "precision = precision_score(y_true, y_pred, average=\"macro\")\n",
    "recall    = recall_score(y_true, y_pred, average=\"macro\")\n",
    "f1        = f1_score(y_true, y_pred, average=\"macro\")\n",
    "\n",
    "print(\"\\n=== Test-set metrics ===\")\n",
    "print(f\"Accuracy : {accuracy:.4f}\")\n",
    "print(f\"Precision: {precision:.4f}\")\n",
    "print(f\"Recall   : {recall:.4f}\")\n",
    "print(f\"F1-score : {f1:.4f}\")\n",
    "\n",
    "print(\"\\n--- Per-class report ---\")\n",
    "target_names = [\"negative\", \"positive\"]\n",
    "print(classification_report(y_true, y_pred, target_names=target_names))\n",
    "\n",
    "print(\"\\n--- Confusion matrix ---\")\n",
    "print(confusion_matrix(y_true, y_pred))"
   ]
  }
 ],
 "metadata": {
  "kernelspec": {
   "display_name": "main",
   "language": "python",
   "name": "python3"
  },
  "language_info": {
   "codemirror_mode": {
    "name": "ipython",
    "version": 3
   },
   "file_extension": ".py",
   "mimetype": "text/x-python",
   "name": "python",
   "nbconvert_exporter": "python",
   "pygments_lexer": "ipython3",
   "version": "3.10.12"
  }
 },
 "nbformat": 4,
 "nbformat_minor": 5
}
