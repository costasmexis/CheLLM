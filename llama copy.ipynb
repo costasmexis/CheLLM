{
 "cells": [
  {
   "cell_type": "code",
   "execution_count": 75,
   "id": "1d21b489",
   "metadata": {},
   "outputs": [],
   "source": [
    "import pandas as pd\n",
    "import ollama\n",
    "from tqdm import tqdm\n",
    "\n",
    "MODEL = \"llama3.2:3b\""
   ]
  },
  {
   "cell_type": "code",
   "execution_count": 76,
   "id": "e4c0ec98",
   "metadata": {},
   "outputs": [],
   "source": [
    "# messages = [\n",
    "#     {\"role\": \"user\", \"content\": \"Describe some of the business applications of Generative AI\"}\n",
    "# ]\n",
    "\n",
    "# response = ollama.chat(model=MODEL, messages=messages)\n",
    "# print(response['message']['content'])"
   ]
  },
  {
   "cell_type": "code",
   "execution_count": 77,
   "id": "1ec0dee5",
   "metadata": {},
   "outputs": [
    {
     "name": "stdout",
     "output_type": "stream",
     "text": [
      "Data length: 100\n"
     ]
    }
   ],
   "source": [
    "data = pd.read_csv('./data/HIV.csv')\n",
    "data_act = data[data['HIV_active'] == 1]\n",
    "data_inact = data[data['HIV_active'] == 0]\n",
    "# Sample\n",
    "data_act = data_act.sample(n=50, random_state=42)\n",
    "data_inact = data_inact.sample(n=50, random_state=42)\n",
    "data = pd.concat([data_act, data_inact], ignore_index=True)\n",
    "\n",
    "input = data['smiles'].values\n",
    "output = data['HIV_active'].values\n",
    "print(f'Data length: {len(input)}')"
   ]
  },
  {
   "cell_type": "code",
   "execution_count": 78,
   "id": "f043c19f",
   "metadata": {},
   "outputs": [
    {
     "data": {
      "text/plain": [
       "HIV_active\n",
       "1    50\n",
       "0    50\n",
       "Name: count, dtype: int64"
      ]
     },
     "execution_count": 78,
     "metadata": {},
     "output_type": "execute_result"
    }
   ],
   "source": [
    "data['HIV_active'].value_counts()"
   ]
  },
  {
   "cell_type": "code",
   "execution_count": 79,
   "id": "fdaeb38b",
   "metadata": {},
   "outputs": [
    {
     "name": "stderr",
     "output_type": "stream",
     "text": [
      "100it [00:23,  4.19it/s]\n"
     ]
    }
   ],
   "source": [
    "# Zero-shot prediction\n",
    "zero_shot_preds = []\n",
    "\n",
    "for smile, label in tqdm(zip(input, output)):\n",
    "    prompt = f\"\"\"You are a chemistry expert. Given the SMILES string below, predict whether the compound is active or inactive against HIV. Answer only \"active\" or \"inactive\".\n",
    "\n",
    "SMILES: {smile}\n",
    "Prediction:\"\"\"\n",
    "\n",
    "    response = ollama.chat(model=MODEL, messages=[\n",
    "        {\"role\": \"user\", \"content\": prompt}\n",
    "    ])\n",
    "\n",
    "    prediction = response['message']['content'].strip().lower()\n",
    "    # print(f\"SMILES: {smile} | True: {label} | Predicted: {prediction}\")\n",
    "    \n",
    "    zero_shot_preds.append([1 if prediction == 'active' else 0])"
   ]
  },
  {
   "cell_type": "code",
   "execution_count": 80,
   "id": "9f30cb38",
   "metadata": {},
   "outputs": [
    {
     "name": "stdout",
     "output_type": "stream",
     "text": [
      "Zero-shot Accuracy: 0.5100\n",
      "Zero-shot Precision: 0.5333\n",
      "Zero-shot Recall: 0.1600\n",
      "Zero-shot F1 Score: 0.2462\n"
     ]
    }
   ],
   "source": [
    "from sklearn.metrics import accuracy_score, precision_score, recall_score, f1_score\n",
    "\n",
    "zero_shot_df = pd.DataFrame(zero_shot_preds, columns=['prediction'])\n",
    "zero_shot_df['true'] = output\n",
    "\n",
    "y_true = zero_shot_df['true']\n",
    "y_pred = zero_shot_df['prediction']\n",
    "\n",
    "accuracy = accuracy_score(y_true, y_pred)\n",
    "precision = precision_score(y_true, y_pred)\n",
    "recall = recall_score(y_true, y_pred)\n",
    "f1 = f1_score(y_true, y_pred)\n",
    "\n",
    "print(f\"Zero-shot Accuracy: {accuracy:.4f}\")\n",
    "print(f\"Zero-shot Precision: {precision:.4f}\")\n",
    "print(f\"Zero-shot Recall: {recall:.4f}\")\n",
    "print(f\"Zero-shot F1 Score: {f1:.4f}\")"
   ]
  },
  {
   "cell_type": "code",
   "execution_count": 86,
   "id": "8b26ed9c",
   "metadata": {},
   "outputs": [
    {
     "name": "stderr",
     "output_type": "stream",
     "text": [
      "100%|██████████| 50/50 [00:00<00:00, 232242.75it/s]\n",
      "100%|██████████| 50/50 [00:28<00:00,  1.76it/s]\n"
     ]
    }
   ],
   "source": [
    "# Split into few-shot examples and test input\n",
    "few_shot_examples = list(zip(input[:50], output[:50]))  # 50 examples\n",
    "test_set = list(zip(input[50:], output[50:]))\n",
    "\n",
    "# Build the few-shot context\n",
    "few_shot_prompt = \"You are a chemistry expert. Predict whether each SMILES string represents a compound that is '1' or '0' against HIV. Respond only with 'active' or 'inactive'.\\n\\n\"\n",
    "for smile, label in tqdm(few_shot_examples):\n",
    "    few_shot_prompt += f\"SMILES: {smile}\\nActivity: {label}\\n\\n\"\n",
    "\n",
    "# Run few-shot predictions\n",
    "few_shot_preds = []\n",
    "for test_smile, true_label in tqdm(test_set):\n",
    "    full_prompt = few_shot_prompt + f\"SMILES: {test_smile}\\nActivity:\"\n",
    "    \n",
    "    response = ollama.chat(model=MODEL, messages=[\n",
    "        {\"role\": \"user\", \"content\": full_prompt}\n",
    "    ])\n",
    "    \n",
    "    prediction = response['message']['content'].strip().lower()\n",
    "    # print(f\"SMILES: {test_smile} | True: {true_label} | Predicted: {prediction}\")\n",
    "    \n",
    "    few_shot_preds.append([1 if prediction == 'active' else 0])"
   ]
  },
  {
   "cell_type": "code",
   "execution_count": 87,
   "id": "6a2f577e",
   "metadata": {},
   "outputs": [
    {
     "name": "stdout",
     "output_type": "stream",
     "text": [
      "Few-shot Accuracy: 0.8200\n",
      "Few-shot Precision: 0.0000\n",
      "Few-shot Recall: 0.0000\n",
      "Few-shot F1 Score: 0.0000\n"
     ]
    },
    {
     "name": "stderr",
     "output_type": "stream",
     "text": [
      "/home/WUR/g0012069/.llms/lib/python3.10/site-packages/sklearn/metrics/_classification.py:1706: UndefinedMetricWarning: Recall is ill-defined and being set to 0.0 due to no true samples. Use `zero_division` parameter to control this behavior.\n",
      "  _warn_prf(average, modifier, f\"{metric.capitalize()} is\", result.shape[0])\n"
     ]
    }
   ],
   "source": [
    "few_shot_df = pd.DataFrame(few_shot_preds, columns=['prediction'])\n",
    "few_shot_df['true'] = [label for _, label in test_set]\n",
    "\n",
    "y_true_fs = few_shot_df['true']\n",
    "y_pred_fs = few_shot_df['prediction']\n",
    "\n",
    "accuracy_fs = accuracy_score(y_true_fs, y_pred_fs)\n",
    "precision_fs = precision_score(y_true_fs, y_pred_fs)\n",
    "recall_fs = recall_score(y_true_fs, y_pred_fs)\n",
    "f1_fs = f1_score(y_true_fs, y_pred_fs)\n",
    "\n",
    "print(f\"Few-shot Accuracy: {accuracy_fs:.4f}\")\n",
    "print(f\"Few-shot Precision: {precision_fs:.4f}\")\n",
    "print(f\"Few-shot Recall: {recall_fs:.4f}\")\n",
    "print(f\"Few-shot F1 Score: {f1_fs:.4f}\")\n"
   ]
  }
 ],
 "metadata": {
  "kernelspec": {
   "display_name": ".llms",
   "language": "python",
   "name": "python3"
  },
  "language_info": {
   "codemirror_mode": {
    "name": "ipython",
    "version": 3
   },
   "file_extension": ".py",
   "mimetype": "text/x-python",
   "name": "python",
   "nbconvert_exporter": "python",
   "pygments_lexer": "ipython3",
   "version": "3.10.12"
  }
 },
 "nbformat": 4,
 "nbformat_minor": 5
}
